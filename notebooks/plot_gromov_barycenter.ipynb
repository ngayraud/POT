{
 "cells": [
  {
   "cell_type": "code",
   "execution_count": 1,
   "metadata": {
    "collapsed": false
   },
   "outputs": [],
   "source": [
    "%matplotlib inline"
   ]
  },
  {
   "cell_type": "markdown",
   "metadata": {},
   "source": [
    "\n",
    "# Gromov-Wasserstein Barycenter example\n",
    "\n",
    "\n",
    "This example is designed to show how to use the Gromov-Wasserstein distance\n",
    "computation in POT.\n",
    "\n"
   ]
  },
  {
   "cell_type": "code",
   "execution_count": 2,
   "metadata": {
    "collapsed": false
   },
   "outputs": [],
   "source": [
    "# Author: Erwan Vautier <erwan.vautier@gmail.com>\n",
    "#         Nicolas Courty <ncourty@irisa.fr>\n",
    "#\n",
    "# License: MIT License\n",
    "\n",
    "\n",
    "import numpy as np\n",
    "import scipy as sp\n",
    "\n",
    "import scipy.ndimage as spi\n",
    "import matplotlib.pylab as pl\n",
    "from sklearn import manifold\n",
    "from sklearn.decomposition import PCA\n",
    "\n",
    "import ot"
   ]
  },
  {
   "cell_type": "markdown",
   "metadata": {},
   "source": [
    "Smacof MDS\n",
    "----------\n",
    "\n",
    "This function allows to find an embedding of points given a dissimilarity matrix\n",
    "that will be given by the output of the algorithm\n",
    "\n"
   ]
  },
  {
   "cell_type": "code",
   "execution_count": 3,
   "metadata": {
    "collapsed": false
   },
   "outputs": [],
   "source": [
    "def smacof_mds(C, dim, max_iter=3000, eps=1e-9):\n",
    "    \"\"\"\n",
    "    Returns an interpolated point cloud following the dissimilarity matrix C\n",
    "    using SMACOF multidimensional scaling (MDS) in specific dimensionned\n",
    "    target space\n",
    "\n",
    "    Parameters\n",
    "    ----------\n",
    "    C : ndarray, shape (ns, ns)\n",
    "        dissimilarity matrix\n",
    "    dim : int\n",
    "          dimension of the targeted space\n",
    "    max_iter :  int\n",
    "        Maximum number of iterations of the SMACOF algorithm for a single run\n",
    "    eps : float\n",
    "        relative tolerance w.r.t stress to declare converge\n",
    "\n",
    "    Returns\n",
    "    -------\n",
    "    npos : ndarray, shape (R, dim)\n",
    "           Embedded coordinates of the interpolated point cloud (defined with\n",
    "           one isometry)\n",
    "    \"\"\"\n",
    "\n",
    "    rng = np.random.RandomState(seed=3)\n",
    "\n",
    "    mds = manifold.MDS(\n",
    "        dim,\n",
    "        max_iter=max_iter,\n",
    "        eps=1e-9,\n",
    "        dissimilarity='precomputed',\n",
    "        n_init=1)\n",
    "    pos = mds.fit(C).embedding_\n",
    "\n",
    "    nmds = manifold.MDS(\n",
    "        2,\n",
    "        max_iter=max_iter,\n",
    "        eps=1e-9,\n",
    "        dissimilarity=\"precomputed\",\n",
    "        random_state=rng,\n",
    "        n_init=1)\n",
    "    npos = nmds.fit_transform(C, init=pos)\n",
    "\n",
    "    return npos"
   ]
  },
  {
   "cell_type": "markdown",
   "metadata": {},
   "source": [
    "Data preparation\n",
    "----------------\n",
    "\n",
    "The four distributions are constructed from 4 simple images\n",
    "\n"
   ]
  },
  {
   "cell_type": "code",
   "execution_count": 4,
   "metadata": {
    "collapsed": false
   },
   "outputs": [
    {
     "name": "stderr",
     "output_type": "stream",
     "text": [
      "/home/rflamary/.local/lib/python3.5/site-packages/ipykernel_launcher.py:6: DeprecationWarning: `imread` is deprecated!\n",
      "`imread` is deprecated in SciPy 1.0.0.\n",
      "Use ``matplotlib.pyplot.imread`` instead.\n",
      "  \n",
      "/home/rflamary/.local/lib/python3.5/site-packages/ipykernel_launcher.py:7: DeprecationWarning: `imread` is deprecated!\n",
      "`imread` is deprecated in SciPy 1.0.0.\n",
      "Use ``matplotlib.pyplot.imread`` instead.\n",
      "  import sys\n",
      "/home/rflamary/.local/lib/python3.5/site-packages/ipykernel_launcher.py:8: DeprecationWarning: `imread` is deprecated!\n",
      "`imread` is deprecated in SciPy 1.0.0.\n",
      "Use ``matplotlib.pyplot.imread`` instead.\n",
      "  \n",
      "/home/rflamary/.local/lib/python3.5/site-packages/ipykernel_launcher.py:9: DeprecationWarning: `imread` is deprecated!\n",
      "`imread` is deprecated in SciPy 1.0.0.\n",
      "Use ``matplotlib.pyplot.imread`` instead.\n",
      "  if __name__ == '__main__':\n"
     ]
    }
   ],
   "source": [
    "def im2mat(I):\n",
    "    \"\"\"Converts and image to matrix (one pixel per line)\"\"\"\n",
    "    return I.reshape((I.shape[0] * I.shape[1], I.shape[2]))\n",
    "\n",
    "\n",
    "square = spi.imread('../data/square.png').astype(np.float64)[:, :, 2] / 256\n",
    "cross = spi.imread('../data/cross.png').astype(np.float64)[:, :, 2] / 256\n",
    "triangle = spi.imread('../data/triangle.png').astype(np.float64)[:, :, 2] / 256\n",
    "star = spi.imread('../data/star.png').astype(np.float64)[:, :, 2] / 256\n",
    "\n",
    "shapes = [square, cross, triangle, star]\n",
    "\n",
    "S = 4\n",
    "xs = [[] for i in range(S)]\n",
    "\n",
    "\n",
    "for nb in range(4):\n",
    "    for i in range(8):\n",
    "        for j in range(8):\n",
    "            if shapes[nb][i, j] < 0.95:\n",
    "                xs[nb].append([j, 8 - i])\n",
    "\n",
    "xs = np.array([np.array(xs[0]), np.array(xs[1]),\n",
    "               np.array(xs[2]), np.array(xs[3])])"
   ]
  },
  {
   "cell_type": "markdown",
   "metadata": {},
   "source": [
    "Barycenter computation\n",
    "----------------------\n",
    "\n"
   ]
  },
  {
   "cell_type": "code",
   "execution_count": 5,
   "metadata": {
    "collapsed": false
   },
   "outputs": [],
   "source": [
    "ns = [len(xs[s]) for s in range(S)]\n",
    "n_samples = 30\n",
    "\n",
    "\"\"\"Compute all distances matrices for the four shapes\"\"\"\n",
    "Cs = [sp.spatial.distance.cdist(xs[s], xs[s]) for s in range(S)]\n",
    "Cs = [cs / cs.max() for cs in Cs]\n",
    "\n",
    "ps = [ot.unif(ns[s]) for s in range(S)]\n",
    "p = ot.unif(n_samples)\n",
    "\n",
    "\n",
    "lambdast = [[float(i) / 3, float(3 - i) / 3] for i in [1, 2]]\n",
    "\n",
    "Ct01 = [0 for i in range(2)]\n",
    "for i in range(2):\n",
    "    Ct01[i] = ot.gromov.gromov_barycenters(n_samples, [Cs[0], Cs[1]],\n",
    "                                           [ps[0], ps[1]\n",
    "                                            ], p, lambdast[i], 'square_loss',  # 5e-4,\n",
    "                                           max_iter=100, tol=1e-3)\n",
    "\n",
    "Ct02 = [0 for i in range(2)]\n",
    "for i in range(2):\n",
    "    Ct02[i] = ot.gromov.gromov_barycenters(n_samples, [Cs[0], Cs[2]],\n",
    "                                           [ps[0], ps[2]\n",
    "                                            ], p, lambdast[i], 'square_loss',  # 5e-4,\n",
    "                                           max_iter=100, tol=1e-3)\n",
    "\n",
    "Ct13 = [0 for i in range(2)]\n",
    "for i in range(2):\n",
    "    Ct13[i] = ot.gromov.gromov_barycenters(n_samples, [Cs[1], Cs[3]],\n",
    "                                           [ps[1], ps[3]\n",
    "                                            ], p, lambdast[i], 'square_loss',  # 5e-4,\n",
    "                                           max_iter=100, tol=1e-3)\n",
    "\n",
    "Ct23 = [0 for i in range(2)]\n",
    "for i in range(2):\n",
    "    Ct23[i] = ot.gromov.gromov_barycenters(n_samples, [Cs[2], Cs[3]],\n",
    "                                           [ps[2], ps[3]\n",
    "                                            ], p, lambdast[i], 'square_loss',  # 5e-4,\n",
    "                                           max_iter=100, tol=1e-3)"
   ]
  },
  {
   "cell_type": "markdown",
   "metadata": {},
   "source": [
    "Visualization\n",
    "-------------\n",
    "\n",
    "The PCA helps in getting consistency between the rotations\n",
    "\n"
   ]
  },
  {
   "cell_type": "code",
   "execution_count": 6,
   "metadata": {
    "collapsed": false
   },
   "outputs": [
    {
     "data": {
      "text/plain": [
       "<matplotlib.collections.PathCollection at 0x7fcec1ef00b8>"
      ]
     },
     "execution_count": 6,
     "metadata": {},
     "output_type": "execute_result"
    },
    {
     "data": {
      "image/png": "[encoded data removed]",
      "text/plain": [
       "<matplotlib.figure.Figure at 0x7fcec20be470>"
      ]
     },
     "metadata": {},
     "output_type": "display_data"
    }
   ],
   "source": [
    "clf = PCA(n_components=2)\n",
    "npos = [0, 0, 0, 0]\n",
    "npos = [smacof_mds(Cs[s], 2) for s in range(S)]\n",
    "\n",
    "npost01 = [0, 0]\n",
    "npost01 = [smacof_mds(Ct01[s], 2) for s in range(2)]\n",
    "npost01 = [clf.fit_transform(npost01[s]) for s in range(2)]\n",
    "\n",
    "npost02 = [0, 0]\n",
    "npost02 = [smacof_mds(Ct02[s], 2) for s in range(2)]\n",
    "npost02 = [clf.fit_transform(npost02[s]) for s in range(2)]\n",
    "\n",
    "npost13 = [0, 0]\n",
    "npost13 = [smacof_mds(Ct13[s], 2) for s in range(2)]\n",
    "npost13 = [clf.fit_transform(npost13[s]) for s in range(2)]\n",
    "\n",
    "npost23 = [0, 0]\n",
    "npost23 = [smacof_mds(Ct23[s], 2) for s in range(2)]\n",
    "npost23 = [clf.fit_transform(npost23[s]) for s in range(2)]\n",
    "\n",
    "\n",
    "fig = pl.figure(figsize=(10, 10))\n",
    "\n",
    "ax1 = pl.subplot2grid((4, 4), (0, 0))\n",
    "pl.xlim((-1, 1))\n",
    "pl.ylim((-1, 1))\n",
    "ax1.scatter(npos[0][:, 0], npos[0][:, 1], color='r')\n",
    "\n",
    "ax2 = pl.subplot2grid((4, 4), (0, 1))\n",
    "pl.xlim((-1, 1))\n",
    "pl.ylim((-1, 1))\n",
    "ax2.scatter(npost01[1][:, 0], npost01[1][:, 1], color='b')\n",
    "\n",
    "ax3 = pl.subplot2grid((4, 4), (0, 2))\n",
    "pl.xlim((-1, 1))\n",
    "pl.ylim((-1, 1))\n",
    "ax3.scatter(npost01[0][:, 0], npost01[0][:, 1], color='b')\n",
    "\n",
    "ax4 = pl.subplot2grid((4, 4), (0, 3))\n",
    "pl.xlim((-1, 1))\n",
    "pl.ylim((-1, 1))\n",
    "ax4.scatter(npos[1][:, 0], npos[1][:, 1], color='r')\n",
    "\n",
    "ax5 = pl.subplot2grid((4, 4), (1, 0))\n",
    "pl.xlim((-1, 1))\n",
    "pl.ylim((-1, 1))\n",
    "ax5.scatter(npost02[1][:, 0], npost02[1][:, 1], color='b')\n",
    "\n",
    "ax6 = pl.subplot2grid((4, 4), (1, 3))\n",
    "pl.xlim((-1, 1))\n",
    "pl.ylim((-1, 1))\n",
    "ax6.scatter(npost13[1][:, 0], npost13[1][:, 1], color='b')\n",
    "\n",
    "ax7 = pl.subplot2grid((4, 4), (2, 0))\n",
    "pl.xlim((-1, 1))\n",
    "pl.ylim((-1, 1))\n",
    "ax7.scatter(npost02[0][:, 0], npost02[0][:, 1], color='b')\n",
    "\n",
    "ax8 = pl.subplot2grid((4, 4), (2, 3))\n",
    "pl.xlim((-1, 1))\n",
    "pl.ylim((-1, 1))\n",
    "ax8.scatter(npost13[0][:, 0], npost13[0][:, 1], color='b')\n",
    "\n",
    "ax9 = pl.subplot2grid((4, 4), (3, 0))\n",
    "pl.xlim((-1, 1))\n",
    "pl.ylim((-1, 1))\n",
    "ax9.scatter(npos[2][:, 0], npos[2][:, 1], color='r')\n",
    "\n",
    "ax10 = pl.subplot2grid((4, 4), (3, 1))\n",
    "pl.xlim((-1, 1))\n",
    "pl.ylim((-1, 1))\n",
    "ax10.scatter(npost23[1][:, 0], npost23[1][:, 1], color='b')\n",
    "\n",
    "ax11 = pl.subplot2grid((4, 4), (3, 2))\n",
    "pl.xlim((-1, 1))\n",
    "pl.ylim((-1, 1))\n",
    "ax11.scatter(npost23[0][:, 0], npost23[0][:, 1], color='b')\n",
    "\n",
    "ax12 = pl.subplot2grid((4, 4), (3, 3))\n",
    "pl.xlim((-1, 1))\n",
    "pl.ylim((-1, 1))\n",
    "ax12.scatter(npos[3][:, 0], npos[3][:, 1], color='r')"
   ]
  }
 ],
 "metadata": {
  "kernelspec": {
   "display_name": "Python 3",
   "language": "python",
   "name": "python3"
  },
  "language_info": {
   "codemirror_mode": {
    "name": "ipython",
    "version": 3
   },
   "file_extension": ".py",
   "mimetype": "text/x-python",
   "name": "python",
   "nbconvert_exporter": "python",
   "pygments_lexer": "ipython3",
   "version": "3.5.2"
  }
 },
 "nbformat": 4,
 "nbformat_minor": 0
}
